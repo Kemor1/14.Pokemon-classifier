{
 "cells": [
  {
   "cell_type": "markdown",
   "id": "d206a7b5",
   "metadata": {},
   "source": [
    "# 1. Import necessary libraries"
   ]
  },
  {
   "cell_type": "code",
   "execution_count": 2,
   "id": "612bede0",
   "metadata": {},
   "outputs": [],
   "source": [
    "import tensorflow as tf\n",
    "import numpy as np\n",
    "from PIL import Image\n",
    "import os\n",
    "import cv2\n",
    "import keras\n",
    "from tensorflow.keras.utils import load_img, img_to_array"
   ]
  },
  {
   "cell_type": "markdown",
   "id": "398370f8",
   "metadata": {},
   "source": [
    "# 2. Get our pokemon images"
   ]
  },
  {
   "cell_type": "code",
   "execution_count": 3,
   "id": "89bbe2c7",
   "metadata": {},
   "outputs": [],
   "source": [
    "image_dir = \"F:\\\\Python_projects\\\\14. Similar_images\\\\PokemonData\""
   ]
  },
  {
   "cell_type": "code",
   "execution_count": 4,
   "id": "d4f8e48b",
   "metadata": {},
   "outputs": [
    {
     "name": "stdout",
     "output_type": "stream",
     "text": [
      "['Abra', 'Aerodactyl', 'Alakazam', 'Alolan Sandslash', 'Arbok', 'Arcanine', 'Articuno', 'Beedrill', 'Bellsprout', 'Blastoise', 'Bulbasaur', 'Butterfree', 'Caterpie', 'Chansey', 'Charizard', 'Charmander', 'Charmeleon', 'Clefable', 'Clefairy', 'Cloyster', 'Cubone', 'Dewgong', 'Diglett', 'Ditto', 'Dodrio', 'Doduo', 'Dragonair', 'Dragonite', 'Dratini', 'Drowzee', 'Dugtrio', 'Eevee', 'Ekans', 'Electabuzz', 'Electrode', 'Exeggcute', 'Exeggutor', 'Farfetchd', 'Fearow', 'Flareon', 'Gastly', 'Gengar', 'Geodude', 'Gloom', 'Golbat', 'Goldeen', 'Golduck', 'Golem', 'Graveler', 'Grimer', 'Growlithe', 'Gyarados', 'Haunter', 'Hitmonchan', 'Hitmonlee', 'Horsea', 'Hypno', 'Ivysaur', 'Jigglypuff', 'Jolteon', 'Jynx', 'Kabuto', 'Kabutops', 'Kadabra', 'Kakuna', 'Kangaskhan', 'Kingler', 'Koffing', 'Krabby', 'Lapras', 'Lickitung', 'Machamp', 'Machoke', 'Machop', 'Magikarp', 'Magmar', 'Magnemite', 'Magneton', 'Mankey', 'Marowak', 'Meowth', 'Metapod', 'Mew', 'Mewtwo', 'Moltres', 'MrMime', 'Muk', 'Nidoking', 'Nidoqueen', 'Nidorina', 'Nidorino', 'Ninetales', 'Oddish', 'Omanyte', 'Omastar', 'Onix', 'Paras', 'Parasect', 'Persian', 'Pidgeot', 'Pidgeotto', 'Pidgey', 'Pikachu', 'Pinsir', 'Poliwag', 'Poliwhirl', 'Poliwrath', 'Ponyta', 'Porygon', 'Primeape', 'Psyduck', 'Raichu', 'Rapidash', 'Raticate', 'Rattata', 'Rhydon', 'Rhyhorn', 'Sandshrew', 'Sandslash', 'Scyther', 'Seadra', 'Seaking', 'Seel', 'Shellder', 'Slowbro', 'Slowpoke', 'Snorlax', 'Spearow', 'Squirtle', 'Starmie', 'Staryu', 'Tangela', 'Tauros', 'Tentacool', 'Tentacruel', 'Vaporeon', 'Venomoth', 'Venonat', 'Venusaur', 'Victreebel', 'Vileplume', 'Voltorb', 'Vulpix', 'Wartortle', 'Weedle', 'Weepinbell', 'Weezing', 'Wigglytuff', 'Zapdos', 'Zubat']\n"
     ]
    }
   ],
   "source": [
    "print(os.listdir(image_dir))"
   ]
  },
  {
   "cell_type": "markdown",
   "id": "b09f95be",
   "metadata": {},
   "source": [
    "# 3. Preprocess images"
   ]
  },
  {
   "cell_type": "markdown",
   "id": "756cfe9d",
   "metadata": {},
   "source": [
    "## 3.1 - splitting data into train and validation sets"
   ]
  },
  {
   "cell_type": "code",
   "execution_count": 18,
   "id": "d5ffd8cb",
   "metadata": {},
   "outputs": [
    {
     "name": "stdout",
     "output_type": "stream",
     "text": [
      "Found 6205 images belonging to 150 classes.\n",
      "Found 615 images belonging to 150 classes.\n"
     ]
    }
   ],
   "source": [
    "IMAGE_SIZE=64\n",
    "BATCH_SIZE=32\n",
    "\n",
    "train_datagen=tf.keras.preprocessing.image.ImageDataGenerator(\n",
    "    rescale=1./255,\n",
    "    shear_range=0.2,\n",
    "    zoom_range=0.2,\n",
    "    horizontal_flip=True,\n",
    "    validation_split=0.1\n",
    "    )\n",
    "\n",
    "test_datagen=tf.keras.preprocessing.image.ImageDataGenerator(\n",
    "     rescale=1./255,\n",
    "     validation_split=0.1\n",
    ")\n",
    "\n",
    "train_datagen=train_datagen.flow_from_directory(\n",
    "    image_dir,\n",
    "    target_size=(IMAGE_SIZE,IMAGE_SIZE),\n",
    "    batch_size=BATCH_SIZE,\n",
    "    subset='training'\n",
    ")\n",
    "\n",
    "test_datagen=test_datagen.flow_from_directory(\n",
    "    image_dir,\n",
    "    target_size=(IMAGE_SIZE,IMAGE_SIZE),\n",
    "    batch_size=BATCH_SIZE,\n",
    "    subset='validation'\n",
    ")"
   ]
  },
  {
   "cell_type": "markdown",
   "id": "ab296518",
   "metadata": {},
   "source": [
    "# 4. Make and fit a model"
   ]
  },
  {
   "cell_type": "code",
   "execution_count": 21,
   "id": "e7c52bb3",
   "metadata": {},
   "outputs": [],
   "source": [
    "model = keras.Sequential([\n",
    "    keras.layers.Conv2D(32,(3,3), activation='relu', input_shape=(64,64,3)),\n",
    "    keras.layers.MaxPool2D((2,2)),\n",
    "   \n",
    "    keras.layers.Conv2D(64,(3,3),activation='relu'),\n",
    "    keras.layers.MaxPool2D(2,2),\n",
    "   \n",
    "    keras.layers.Conv2D(128,(3,3), activation='relu'),\n",
    "    keras.layers.MaxPool2D(2,2),\n",
    "   \n",
    "    keras.layers.Conv2D(128,(3,3), activation='relu'),\n",
    "    keras.layers.MaxPool2D(2,2),\n",
    "  \n",
    "    keras.layers.Flatten(),\n",
    "    keras.layers.Dropout(0.5),\n",
    "   \n",
    "    keras.layers.Dense(512, activation='relu'),\n",
    "    keras.layers.Dense(150, activation='softmax')])"
   ]
  },
  {
   "cell_type": "code",
   "execution_count": 22,
   "id": "89577bd6",
   "metadata": {},
   "outputs": [],
   "source": [
    "model.compile(optimizer=tf.keras.optimizers.Adam(), loss='categorical_crossentropy', metrics=['accuracy'])"
   ]
  },
  {
   "cell_type": "code",
   "execution_count": 23,
   "id": "6072b382",
   "metadata": {},
   "outputs": [
    {
     "name": "stdout",
     "output_type": "stream",
     "text": [
      "Epoch 1/10\n",
      "194/194 [==============================] - 55s 280ms/step - loss: 4.7915 - accuracy: 0.0147 - val_loss: 4.3620 - val_accuracy: 0.0374\n",
      "Epoch 2/10\n",
      "194/194 [==============================] - 54s 275ms/step - loss: 4.2129 - accuracy: 0.0559 - val_loss: 3.8439 - val_accuracy: 0.0976\n",
      "Epoch 3/10\n",
      "194/194 [==============================] - 51s 265ms/step - loss: 3.7930 - accuracy: 0.1102 - val_loss: 3.4261 - val_accuracy: 0.1691\n",
      "Epoch 4/10\n",
      "194/194 [==============================] - 54s 279ms/step - loss: 3.3480 - accuracy: 0.1770 - val_loss: 2.9891 - val_accuracy: 0.2488\n",
      "Epoch 5/10\n",
      "194/194 [==============================] - 54s 280ms/step - loss: 2.9490 - accuracy: 0.2453 - val_loss: 2.6445 - val_accuracy: 0.3252\n",
      "Epoch 6/10\n",
      "194/194 [==============================] - 55s 283ms/step - loss: 2.6963 - accuracy: 0.3023 - val_loss: 2.4013 - val_accuracy: 0.3805\n",
      "Epoch 7/10\n",
      "194/194 [==============================] - 55s 281ms/step - loss: 2.5173 - accuracy: 0.3304 - val_loss: 2.2457 - val_accuracy: 0.4423\n",
      "Epoch 8/10\n",
      "194/194 [==============================] - 54s 280ms/step - loss: 2.3279 - accuracy: 0.3818 - val_loss: 2.1711 - val_accuracy: 0.4358\n",
      "Epoch 9/10\n",
      "194/194 [==============================] - 54s 277ms/step - loss: 2.1678 - accuracy: 0.4098 - val_loss: 1.9868 - val_accuracy: 0.4748\n",
      "Epoch 10/10\n",
      "194/194 [==============================] - 55s 281ms/step - loss: 2.0690 - accuracy: 0.4379 - val_loss: 1.9949 - val_accuracy: 0.4943\n"
     ]
    },
    {
     "data": {
      "text/plain": [
       "<keras.callbacks.History at 0x1d41059e940>"
      ]
     },
     "execution_count": 23,
     "metadata": {},
     "output_type": "execute_result"
    }
   ],
   "source": [
    "model.fit(train_datagen, epochs=10, validation_data=test_datagen)"
   ]
  },
  {
   "cell_type": "code",
   "execution_count": 24,
   "id": "01ccfd9d",
   "metadata": {},
   "outputs": [],
   "source": [
    "model.save('my_model.h5')\n",
    "model.save_weights(\"model_num.h5\")"
   ]
  },
  {
   "cell_type": "markdown",
   "id": "fe551734",
   "metadata": {},
   "source": [
    "# 5. Evaluate a model"
   ]
  },
  {
   "cell_type": "code",
   "execution_count": 5,
   "id": "dd6470ee",
   "metadata": {},
   "outputs": [],
   "source": [
    "model = tf.keras.models.load_model('my_model.h5')"
   ]
  },
  {
   "cell_type": "code",
   "execution_count": 7,
   "id": "9c1ea837",
   "metadata": {},
   "outputs": [],
   "source": [
    "names = ['Abra', 'Aerodactyl', 'Alakazam', 'Alolan Sandslash', 'Arbok', 'Arcanine', 'Articuno', \n",
    "         'Beedrill', 'Bellsprout', 'Blastoise', 'Bulbasaur', 'Butterfree', 'Caterpie', 'Chansey', \n",
    "         'Charizard', 'Charmander', 'Charmeleon', 'Clefable', 'Clefairy', 'Cloyster', 'Cubone', \n",
    "         'Dewgong', 'Diglett', 'Ditto', 'Dodrio', 'Doduo', 'Dragonair', 'Dragonite', 'Dratini', \n",
    "         'Drowzee', 'Dugtrio', 'Eevee', 'Ekans', 'Electabuzz', 'Electrode', 'Exeggcute', 'Exeggutor', \n",
    "         'Farfetchd', 'Fearow', 'Flareon', 'Gastly', 'Gengar', 'Geodude', 'Gloom', 'Golbat', 'Goldeen', \n",
    "         'Golduck', 'Golem', 'Graveler', 'Grimer', 'Growlithe', 'Gyarados', 'Haunter', 'Hitmonchan', \n",
    "         'Hitmonlee', 'Horsea', 'Hypno', 'Ivysaur', 'Jigglypuff', 'Jolteon', 'Jynx', 'Kabuto', 'Kabutops', \n",
    "         'Kadabra', 'Kakuna', 'Kangaskhan', 'Kingler', 'Koffing', 'Krabby', 'Lapras', 'Lickitung', 'Machamp', \n",
    "         'Machoke', 'Machop', 'Magikarp', 'Magmar', 'Magnemite', 'Magneton', 'Mankey', 'Marowak', 'Meowth', \n",
    "         'Metapod', 'Mew', 'Mewtwo', 'Moltres', 'MrMime', 'Muk', 'Nidoking', 'Nidoqueen', 'Nidorina', 'Nidorino', \n",
    "         'Ninetales', 'Oddish', 'Omanyte', 'Omastar', 'Onix', 'Paras', 'Parasect', 'Persian', 'Pidgeot', 'Pidgeotto', \n",
    "         'Pidgey', 'Pikachu', 'Pinsir', 'Poliwag', 'Poliwhirl', 'Poliwrath', 'Ponyta', 'Porygon', 'Primeape', 'Psyduck', \n",
    "         'Raichu', 'Rapidash', 'Raticate', 'Rattata', 'Rhydon', 'Rhyhorn', 'Sandshrew', 'Sandslash', 'Scyther', 'Seadra', \n",
    "         'Seaking', 'Seel', 'Shellder', 'Slowbro', 'Slowpoke', 'Snorlax', 'Spearow', 'Squirtle', 'Starmie', 'Staryu', \n",
    "         'Tangela', 'Tauros', 'Tentacool', 'Tentacruel', 'Vaporeon', 'Venomoth', 'Venonat', 'Venusaur', 'Victreebel', \n",
    "         'Vileplume', 'Voltorb', 'Vulpix', 'Wartortle', 'Weedle', 'Weepinbell', 'Weezing', 'Wigglytuff', 'Zapdos', 'Zubat']"
   ]
  },
  {
   "cell_type": "code",
   "execution_count": 33,
   "id": "9c1a40af",
   "metadata": {},
   "outputs": [],
   "source": [
    "image = load_img('data\\\\test\\\\image11.jpg', target_size=(64, 64)) \n",
    "image = img_to_array(image) \n",
    "image = np.expand_dims(image, axis=0)\n",
    "image /= 255. \n"
   ]
  },
  {
   "cell_type": "code",
   "execution_count": 34,
   "id": "28db1211",
   "metadata": {},
   "outputs": [
    {
     "data": {
      "image/jpeg": "[encoded data removed]",
      "text/plain": [
       "<IPython.core.display.Image object>"
      ]
     },
     "execution_count": 34,
     "metadata": {},
     "output_type": "execute_result"
    }
   ],
   "source": [
    "from IPython.display import Image\n",
    "Image('data\\\\test\\\\image11.jpg')"
   ]
  },
  {
   "cell_type": "code",
   "execution_count": 35,
   "id": "a6501abc",
   "metadata": {},
   "outputs": [],
   "source": [
    "result = model.predict(image)"
   ]
  },
  {
   "cell_type": "code",
   "execution_count": 36,
   "id": "3fe7ae17",
   "metadata": {},
   "outputs": [
    {
     "name": "stdout",
     "output_type": "stream",
     "text": [
      "Paras\n"
     ]
    }
   ],
   "source": [
    "print(names[np.argmax(result)])"
   ]
  },
  {
   "cell_type": "code",
   "execution_count": null,
   "id": "b02e7f57",
   "metadata": {},
   "outputs": [],
   "source": []
  }
 ],
 "metadata": {
  "kernelspec": {
   "display_name": "Python 3 (ipykernel)",
   "language": "python",
   "name": "python3"
  },
  "language_info": {
   "codemirror_mode": {
    "name": "ipython",
    "version": 3
   },
   "file_extension": ".py",
   "mimetype": "text/x-python",
   "name": "python",
   "nbconvert_exporter": "python",
   "pygments_lexer": "ipython3",
   "version": "3.9.7"
  }
 },
 "nbformat": 4,
 "nbformat_minor": 5
}
